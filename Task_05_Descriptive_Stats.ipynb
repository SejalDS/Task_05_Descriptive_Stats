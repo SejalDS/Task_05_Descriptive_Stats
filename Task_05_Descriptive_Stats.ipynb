{
 "cells": [
  {
   "cell_type": "code",
   "execution_count": 8,
   "id": "b3907228",
   "metadata": {},
   "outputs": [],
   "source": [
    "# Load all uploaded CSVs to prepare for analysis\n",
    "import pandas as pd\n",
    "import matplotlib.pyplot as plt\n",
    "import seaborn as sns\n",
    "\n",
    "# File paths\n",
    "match_stats_path = \"2025_SU_Lacrosse_Matches_Stats.csv\"\n",
    "period_stats_path = \"2025_SU_Lacrosse_Period_Stats.csv\"\n",
    "player_stats_path = \"2025_SU_Lacrosse_Player_Stats.csv\"\n",
    "team_stats_path = \"2025_SU_Lacrosse_Team_Stats.csv\""
   ]
  },
  {
   "cell_type": "code",
   "execution_count": 9,
   "id": "016acace",
   "metadata": {},
   "outputs": [],
   "source": [
    "# Read the CSV files\n",
    "match_df = pd.read_csv(match_stats_path)\n",
    "period_df = pd.read_csv(period_stats_path)\n",
    "player_df = pd.read_csv(player_stats_path)\n",
    "team_df = pd.read_csv(team_stats_path)"
   ]
  },
  {
   "cell_type": "code",
   "execution_count": 10,
   "id": "8df41ca7",
   "metadata": {},
   "outputs": [
    {
     "data": {
      "text/plain": [
       "(     Date              Opponent Result  SU_Score  OPP_Score  Attendance\n",
       " 0  Feb-07               UALBANY      W        21          9        2127\n",
       " 1  Feb-15        at #7 Maryland      W        15          9         758\n",
       " 2  Feb-18               CORNELL      W        18         10        2214\n",
       " 3  Feb-22  at #2 North Carolina      L         8         16        1088\n",
       " 4  Feb-25       #3 NORTHWESTERN      L         8         12        2080,\n",
       "   Period  SU_Goals  OPP_Goals  SU_Saves  OPP_Saves  SU_Shots  OPP_Shots  \\\n",
       " 0    1st        74         64        43         39       145        154   \n",
       " 1    2nd        65         52        42         48       147        143   \n",
       " 2    3rd        48         45        37         40       129        115   \n",
       " 3    4th        47         59        39         39       114        138   \n",
       " 4     OT         0          1         1          2         2          2   \n",
       " \n",
       "    SU_SOG  OPP_SOG  \n",
       " 0     113      107  \n",
       " 1     113       94  \n",
       " 2      88       82  \n",
       " 3      86       98  \n",
       " 4       2        2  ,\n",
       "               PLAYER  GP   G   A  Pts  Sh  Gw  GB  DC  TO  CT\n",
       " 0          Emma Ward  19  30  46   76  77   1   6   0  41   2\n",
       " 1  Caroline Trinkaus  19  32  11   43  72   4   6   8  16   5\n",
       " 2      Emma Muchnick  19  34   7   41  71   2  27  13  31   9\n",
       " 3     Gracie Britton  19  20  10   30  41   0   8   1  16   0\n",
       " 4     Alexa Vogelman  19  21   6   27  46   0  25  31  27  13,\n",
       "                    Metric       SU      OPP\n",
       " 0     Goals-Shot attempts  235-538  221-552\n",
       " 1   Goals scored per game    12.37    11.63\n",
       " 2               Shot pct.    0.437      0.4\n",
       " 3  Shots on goal-Attempts  403-538  383-552\n",
       " 4                SOG pct.    0.749    0.694)"
      ]
     },
     "execution_count": 10,
     "metadata": {},
     "output_type": "execute_result"
    }
   ],
   "source": [
    "# Display basic structure of the data\n",
    "match_df.head(), period_df.head(), player_df.head(), team_df.head()"
   ]
  },
  {
   "cell_type": "markdown",
   "id": "af438073",
   "metadata": {},
   "source": [
    "Q1: How many games did SU play in 2025?"
   ]
  },
  {
   "cell_type": "code",
   "execution_count": 11,
   "id": "e511702e",
   "metadata": {},
   "outputs": [
    {
     "name": "stdout",
     "output_type": "stream",
     "text": [
      "Total games played: 19\n"
     ]
    }
   ],
   "source": [
    "total_games = len(match_df)\n",
    "print(f\"Total games played: {total_games}\")\n"
   ]
  },
  {
   "cell_type": "markdown",
   "id": "0d4b0be8",
   "metadata": {},
   "source": [
    "Q2: How many games were wins vs losses?"
   ]
  },
  {
   "cell_type": "code",
   "execution_count": 12,
   "id": "d261b019",
   "metadata": {},
   "outputs": [
    {
     "name": "stdout",
     "output_type": "stream",
     "text": [
      "Wins: 10, Losses: 9\n"
     ]
    }
   ],
   "source": [
    "wins = len(match_df[match_df['Result'].str.startswith(\"W\")])\n",
    "losses = total_games - wins\n",
    "print(f\"Wins: {wins}, Losses: {losses}\")\n"
   ]
  },
  {
   "cell_type": "markdown",
   "id": "d867ec84",
   "metadata": {},
   "source": [
    "Player-Level Summary"
   ]
  },
  {
   "cell_type": "code",
   "execution_count": 14,
   "id": "decaab7e",
   "metadata": {},
   "outputs": [
    {
     "data": {
      "text/html": [
       "<div>\n",
       "<style scoped>\n",
       "    .dataframe tbody tr th:only-of-type {\n",
       "        vertical-align: middle;\n",
       "    }\n",
       "\n",
       "    .dataframe tbody tr th {\n",
       "        vertical-align: top;\n",
       "    }\n",
       "\n",
       "    .dataframe thead th {\n",
       "        text-align: right;\n",
       "    }\n",
       "</style>\n",
       "<table border=\"1\" class=\"dataframe\">\n",
       "  <thead>\n",
       "    <tr style=\"text-align: right;\">\n",
       "      <th></th>\n",
       "      <th>GP</th>\n",
       "      <th>G</th>\n",
       "      <th>A</th>\n",
       "      <th>Pts</th>\n",
       "      <th>Sh</th>\n",
       "      <th>Gw</th>\n",
       "      <th>GB</th>\n",
       "      <th>DC</th>\n",
       "      <th>TO</th>\n",
       "      <th>CT</th>\n",
       "    </tr>\n",
       "  </thead>\n",
       "  <tbody>\n",
       "    <tr>\n",
       "      <th>count</th>\n",
       "      <td>32.000000</td>\n",
       "      <td>32.000000</td>\n",
       "      <td>32.000000</td>\n",
       "      <td>32.000000</td>\n",
       "      <td>32.000000</td>\n",
       "      <td>32.000000</td>\n",
       "      <td>32.000000</td>\n",
       "      <td>32.000000</td>\n",
       "      <td>32.000000</td>\n",
       "      <td>32.000000</td>\n",
       "    </tr>\n",
       "    <tr>\n",
       "      <th>mean</th>\n",
       "      <td>11.218750</td>\n",
       "      <td>7.312500</td>\n",
       "      <td>3.500000</td>\n",
       "      <td>10.812500</td>\n",
       "      <td>16.812500</td>\n",
       "      <td>0.312500</td>\n",
       "      <td>9.218750</td>\n",
       "      <td>7.718750</td>\n",
       "      <td>7.781250</td>\n",
       "      <td>4.781250</td>\n",
       "    </tr>\n",
       "    <tr>\n",
       "      <th>std</th>\n",
       "      <td>7.119869</td>\n",
       "      <td>10.648148</td>\n",
       "      <td>8.428064</td>\n",
       "      <td>17.321323</td>\n",
       "      <td>24.400473</td>\n",
       "      <td>0.820602</td>\n",
       "      <td>10.897571</td>\n",
       "      <td>15.623048</td>\n",
       "      <td>10.375947</td>\n",
       "      <td>8.019067</td>\n",
       "    </tr>\n",
       "    <tr>\n",
       "      <th>min</th>\n",
       "      <td>1.000000</td>\n",
       "      <td>0.000000</td>\n",
       "      <td>0.000000</td>\n",
       "      <td>0.000000</td>\n",
       "      <td>0.000000</td>\n",
       "      <td>0.000000</td>\n",
       "      <td>0.000000</td>\n",
       "      <td>0.000000</td>\n",
       "      <td>0.000000</td>\n",
       "      <td>0.000000</td>\n",
       "    </tr>\n",
       "    <tr>\n",
       "      <th>25%</th>\n",
       "      <td>4.750000</td>\n",
       "      <td>0.000000</td>\n",
       "      <td>0.000000</td>\n",
       "      <td>0.000000</td>\n",
       "      <td>0.000000</td>\n",
       "      <td>0.000000</td>\n",
       "      <td>1.000000</td>\n",
       "      <td>0.000000</td>\n",
       "      <td>0.750000</td>\n",
       "      <td>0.000000</td>\n",
       "    </tr>\n",
       "    <tr>\n",
       "      <th>50%</th>\n",
       "      <td>12.000000</td>\n",
       "      <td>1.000000</td>\n",
       "      <td>0.000000</td>\n",
       "      <td>1.000000</td>\n",
       "      <td>2.500000</td>\n",
       "      <td>0.000000</td>\n",
       "      <td>5.500000</td>\n",
       "      <td>1.000000</td>\n",
       "      <td>3.500000</td>\n",
       "      <td>1.000000</td>\n",
       "    </tr>\n",
       "    <tr>\n",
       "      <th>75%</th>\n",
       "      <td>19.000000</td>\n",
       "      <td>14.000000</td>\n",
       "      <td>4.250000</td>\n",
       "      <td>16.750000</td>\n",
       "      <td>31.750000</td>\n",
       "      <td>0.000000</td>\n",
       "      <td>14.250000</td>\n",
       "      <td>8.750000</td>\n",
       "      <td>10.250000</td>\n",
       "      <td>8.250000</td>\n",
       "    </tr>\n",
       "    <tr>\n",
       "      <th>max</th>\n",
       "      <td>19.000000</td>\n",
       "      <td>34.000000</td>\n",
       "      <td>46.000000</td>\n",
       "      <td>76.000000</td>\n",
       "      <td>77.000000</td>\n",
       "      <td>4.000000</td>\n",
       "      <td>34.000000</td>\n",
       "      <td>75.000000</td>\n",
       "      <td>41.000000</td>\n",
       "      <td>40.000000</td>\n",
       "    </tr>\n",
       "  </tbody>\n",
       "</table>\n",
       "</div>"
      ],
      "text/plain": [
       "              GP          G          A        Pts         Sh         Gw  \\\n",
       "count  32.000000  32.000000  32.000000  32.000000  32.000000  32.000000   \n",
       "mean   11.218750   7.312500   3.500000  10.812500  16.812500   0.312500   \n",
       "std     7.119869  10.648148   8.428064  17.321323  24.400473   0.820602   \n",
       "min     1.000000   0.000000   0.000000   0.000000   0.000000   0.000000   \n",
       "25%     4.750000   0.000000   0.000000   0.000000   0.000000   0.000000   \n",
       "50%    12.000000   1.000000   0.000000   1.000000   2.500000   0.000000   \n",
       "75%    19.000000  14.000000   4.250000  16.750000  31.750000   0.000000   \n",
       "max    19.000000  34.000000  46.000000  76.000000  77.000000   4.000000   \n",
       "\n",
       "              GB         DC         TO         CT  \n",
       "count  32.000000  32.000000  32.000000  32.000000  \n",
       "mean    9.218750   7.718750   7.781250   4.781250  \n",
       "std    10.897571  15.623048  10.375947   8.019067  \n",
       "min     0.000000   0.000000   0.000000   0.000000  \n",
       "25%     1.000000   0.000000   0.750000   0.000000  \n",
       "50%     5.500000   1.000000   3.500000   1.000000  \n",
       "75%    14.250000   8.750000  10.250000   8.250000  \n",
       "max    34.000000  75.000000  41.000000  40.000000  "
      ]
     },
     "execution_count": 14,
     "metadata": {},
     "output_type": "execute_result"
    }
   ],
   "source": [
    "player_df.describe()"
   ]
  },
  {
   "cell_type": "markdown",
   "id": "414aeff1",
   "metadata": {},
   "source": [
    "Most goals by a player"
   ]
  },
  {
   "cell_type": "code",
   "execution_count": 15,
   "id": "b6abc85e",
   "metadata": {},
   "outputs": [
    {
     "name": "stdout",
     "output_type": "stream",
     "text": [
      "              PLAYER   G\n",
      "2      Emma Muchnick  34\n",
      "1  Caroline Trinkaus  32\n",
      "0          Emma Ward  30\n",
      "4     Alexa Vogelman  21\n",
      "5     Mileena Cotter  21\n"
     ]
    }
   ],
   "source": [
    "top_scorer = player_df.sort_values(\"G\", ascending=False)[[\"PLAYER\", \"G\"]].head(5)\n",
    "print(top_scorer)"
   ]
  },
  {
   "cell_type": "markdown",
   "id": "fb23dcdd",
   "metadata": {},
   "source": [
    "Top draw controls"
   ]
  },
  {
   "cell_type": "code",
   "execution_count": 16,
   "id": "0ce5f01b",
   "metadata": {},
   "outputs": [
    {
     "name": "stdout",
     "output_type": "stream",
     "text": [
      "             PLAYER  DC\n",
      "14      Meghan Rode  75\n",
      "6   Joely Caramelli  39\n",
      "4    Alexa Vogelman  31\n",
      "5    Mileena Cotter  24\n",
      "2     Emma Muchnick  13\n"
     ]
    }
   ],
   "source": [
    "top_draw_controls = player_df.sort_values(\"DC\", ascending=False)[[\"PLAYER\", \"DC\"]].head(5)\n",
    "print(top_draw_controls)"
   ]
  },
  {
   "cell_type": "markdown",
   "id": "d1992712",
   "metadata": {},
   "source": [
    "What was the team’s average attendance in home vs. away games?"
   ]
  },
  {
   "cell_type": "code",
   "execution_count": 19,
   "id": "d4cee4c9",
   "metadata": {},
   "outputs": [
    {
     "data": {
      "text/plain": [
       "Location\n",
       "Away        568.25\n",
       "Home       2393.00\n",
       "Neutral     291.50\n",
       "Name: Attendance, dtype: float64"
      ]
     },
     "execution_count": 19,
     "metadata": {},
     "output_type": "execute_result"
    }
   ],
   "source": [
    "match_df['Location'] = match_df['Opponent'].apply(lambda x: 'Home' if not x.startswith('at') and 'vs' not in x else ('Neutral' if 'vs' in x else 'Away'))\n",
    "match_df.groupby('Location')['Attendance'].mean()"
   ]
  },
  {
   "cell_type": "markdown",
   "id": "bd21f9c9",
   "metadata": {},
   "source": [
    "Which quarter had the worst defensive performance for SU?"
   ]
  },
  {
   "cell_type": "code",
   "execution_count": 20,
   "id": "3d9aecc9",
   "metadata": {},
   "outputs": [
    {
     "data": {
      "text/html": [
       "<div>\n",
       "<style scoped>\n",
       "    .dataframe tbody tr th:only-of-type {\n",
       "        vertical-align: middle;\n",
       "    }\n",
       "\n",
       "    .dataframe tbody tr th {\n",
       "        vertical-align: top;\n",
       "    }\n",
       "\n",
       "    .dataframe thead th {\n",
       "        text-align: right;\n",
       "    }\n",
       "</style>\n",
       "<table border=\"1\" class=\"dataframe\">\n",
       "  <thead>\n",
       "    <tr style=\"text-align: right;\">\n",
       "      <th></th>\n",
       "      <th>Period</th>\n",
       "      <th>SU_Goals</th>\n",
       "      <th>OPP_Goals</th>\n",
       "      <th>SU_Saves</th>\n",
       "      <th>OPP_Saves</th>\n",
       "      <th>SU_Shots</th>\n",
       "      <th>OPP_Shots</th>\n",
       "      <th>SU_SOG</th>\n",
       "      <th>OPP_SOG</th>\n",
       "      <th>Goal_Diff</th>\n",
       "    </tr>\n",
       "  </thead>\n",
       "  <tbody>\n",
       "    <tr>\n",
       "      <th>3</th>\n",
       "      <td>4th</td>\n",
       "      <td>47</td>\n",
       "      <td>59</td>\n",
       "      <td>39</td>\n",
       "      <td>39</td>\n",
       "      <td>114</td>\n",
       "      <td>138</td>\n",
       "      <td>86</td>\n",
       "      <td>98</td>\n",
       "      <td>-12</td>\n",
       "    </tr>\n",
       "    <tr>\n",
       "      <th>4</th>\n",
       "      <td>OT</td>\n",
       "      <td>0</td>\n",
       "      <td>1</td>\n",
       "      <td>1</td>\n",
       "      <td>2</td>\n",
       "      <td>2</td>\n",
       "      <td>2</td>\n",
       "      <td>2</td>\n",
       "      <td>2</td>\n",
       "      <td>-1</td>\n",
       "    </tr>\n",
       "    <tr>\n",
       "      <th>5</th>\n",
       "      <td>OT2</td>\n",
       "      <td>1</td>\n",
       "      <td>0</td>\n",
       "      <td>0</td>\n",
       "      <td>0</td>\n",
       "      <td>1</td>\n",
       "      <td>0</td>\n",
       "      <td>1</td>\n",
       "      <td>0</td>\n",
       "      <td>1</td>\n",
       "    </tr>\n",
       "    <tr>\n",
       "      <th>2</th>\n",
       "      <td>3rd</td>\n",
       "      <td>48</td>\n",
       "      <td>45</td>\n",
       "      <td>37</td>\n",
       "      <td>40</td>\n",
       "      <td>129</td>\n",
       "      <td>115</td>\n",
       "      <td>88</td>\n",
       "      <td>82</td>\n",
       "      <td>3</td>\n",
       "    </tr>\n",
       "    <tr>\n",
       "      <th>0</th>\n",
       "      <td>1st</td>\n",
       "      <td>74</td>\n",
       "      <td>64</td>\n",
       "      <td>43</td>\n",
       "      <td>39</td>\n",
       "      <td>145</td>\n",
       "      <td>154</td>\n",
       "      <td>113</td>\n",
       "      <td>107</td>\n",
       "      <td>10</td>\n",
       "    </tr>\n",
       "    <tr>\n",
       "      <th>1</th>\n",
       "      <td>2nd</td>\n",
       "      <td>65</td>\n",
       "      <td>52</td>\n",
       "      <td>42</td>\n",
       "      <td>48</td>\n",
       "      <td>147</td>\n",
       "      <td>143</td>\n",
       "      <td>113</td>\n",
       "      <td>94</td>\n",
       "      <td>13</td>\n",
       "    </tr>\n",
       "    <tr>\n",
       "      <th>6</th>\n",
       "      <td>Total</td>\n",
       "      <td>235</td>\n",
       "      <td>221</td>\n",
       "      <td>162</td>\n",
       "      <td>168</td>\n",
       "      <td>538</td>\n",
       "      <td>552</td>\n",
       "      <td>403</td>\n",
       "      <td>383</td>\n",
       "      <td>14</td>\n",
       "    </tr>\n",
       "  </tbody>\n",
       "</table>\n",
       "</div>"
      ],
      "text/plain": [
       "  Period  SU_Goals  OPP_Goals  SU_Saves  OPP_Saves  SU_Shots  OPP_Shots  \\\n",
       "3    4th        47         59        39         39       114        138   \n",
       "4     OT         0          1         1          2         2          2   \n",
       "5    OT2         1          0         0          0         1          0   \n",
       "2    3rd        48         45        37         40       129        115   \n",
       "0    1st        74         64        43         39       145        154   \n",
       "1    2nd        65         52        42         48       147        143   \n",
       "6  Total       235        221       162        168       538        552   \n",
       "\n",
       "   SU_SOG  OPP_SOG  Goal_Diff  \n",
       "3      86       98        -12  \n",
       "4       2        2         -1  \n",
       "5       1        0          1  \n",
       "2      88       82          3  \n",
       "0     113      107         10  \n",
       "1     113       94         13  \n",
       "6     403      383         14  "
      ]
     },
     "execution_count": 20,
     "metadata": {},
     "output_type": "execute_result"
    }
   ],
   "source": [
    "period_df['Goal_Diff'] = period_df['SU_Goals'] - period_df['OPP_Goals']\n",
    "period_df.sort_values('Goal_Diff')  # lowest first"
   ]
  },
  {
   "cell_type": "markdown",
   "id": "0d637f45",
   "metadata": {},
   "source": [
    "Who is the most complete player (balance of goals, assists, low TO)?"
   ]
  },
  {
   "cell_type": "code",
   "execution_count": 21,
   "id": "793a0ab6",
   "metadata": {},
   "outputs": [
    {
     "data": {
      "text/html": [
       "<div>\n",
       "<style scoped>\n",
       "    .dataframe tbody tr th:only-of-type {\n",
       "        vertical-align: middle;\n",
       "    }\n",
       "\n",
       "    .dataframe tbody tr th {\n",
       "        vertical-align: top;\n",
       "    }\n",
       "\n",
       "    .dataframe thead th {\n",
       "        text-align: right;\n",
       "    }\n",
       "</style>\n",
       "<table border=\"1\" class=\"dataframe\">\n",
       "  <thead>\n",
       "    <tr style=\"text-align: right;\">\n",
       "      <th></th>\n",
       "      <th>PLAYER</th>\n",
       "      <th>GP</th>\n",
       "      <th>G</th>\n",
       "      <th>A</th>\n",
       "      <th>Pts</th>\n",
       "      <th>Sh</th>\n",
       "      <th>Gw</th>\n",
       "      <th>GB</th>\n",
       "      <th>DC</th>\n",
       "      <th>TO</th>\n",
       "      <th>CT</th>\n",
       "      <th>Efficiency</th>\n",
       "    </tr>\n",
       "  </thead>\n",
       "  <tbody>\n",
       "    <tr>\n",
       "      <th>0</th>\n",
       "      <td>Emma Ward</td>\n",
       "      <td>19</td>\n",
       "      <td>30</td>\n",
       "      <td>46</td>\n",
       "      <td>76</td>\n",
       "      <td>77</td>\n",
       "      <td>1</td>\n",
       "      <td>6</td>\n",
       "      <td>0</td>\n",
       "      <td>41</td>\n",
       "      <td>2</td>\n",
       "      <td>35</td>\n",
       "    </tr>\n",
       "    <tr>\n",
       "      <th>1</th>\n",
       "      <td>Caroline Trinkaus</td>\n",
       "      <td>19</td>\n",
       "      <td>32</td>\n",
       "      <td>11</td>\n",
       "      <td>43</td>\n",
       "      <td>72</td>\n",
       "      <td>4</td>\n",
       "      <td>6</td>\n",
       "      <td>8</td>\n",
       "      <td>16</td>\n",
       "      <td>5</td>\n",
       "      <td>27</td>\n",
       "    </tr>\n",
       "    <tr>\n",
       "      <th>3</th>\n",
       "      <td>Gracie Britton</td>\n",
       "      <td>19</td>\n",
       "      <td>20</td>\n",
       "      <td>10</td>\n",
       "      <td>30</td>\n",
       "      <td>41</td>\n",
       "      <td>0</td>\n",
       "      <td>8</td>\n",
       "      <td>1</td>\n",
       "      <td>16</td>\n",
       "      <td>0</td>\n",
       "      <td>14</td>\n",
       "    </tr>\n",
       "    <tr>\n",
       "      <th>6</th>\n",
       "      <td>Joely Caramelli</td>\n",
       "      <td>19</td>\n",
       "      <td>16</td>\n",
       "      <td>4</td>\n",
       "      <td>20</td>\n",
       "      <td>46</td>\n",
       "      <td>0</td>\n",
       "      <td>24</td>\n",
       "      <td>39</td>\n",
       "      <td>8</td>\n",
       "      <td>11</td>\n",
       "      <td>12</td>\n",
       "    </tr>\n",
       "    <tr>\n",
       "      <th>2</th>\n",
       "      <td>Emma Muchnick</td>\n",
       "      <td>19</td>\n",
       "      <td>34</td>\n",
       "      <td>7</td>\n",
       "      <td>41</td>\n",
       "      <td>71</td>\n",
       "      <td>2</td>\n",
       "      <td>27</td>\n",
       "      <td>13</td>\n",
       "      <td>31</td>\n",
       "      <td>9</td>\n",
       "      <td>10</td>\n",
       "    </tr>\n",
       "  </tbody>\n",
       "</table>\n",
       "</div>"
      ],
      "text/plain": [
       "              PLAYER  GP   G   A  Pts  Sh  Gw  GB  DC  TO  CT  Efficiency\n",
       "0          Emma Ward  19  30  46   76  77   1   6   0  41   2          35\n",
       "1  Caroline Trinkaus  19  32  11   43  72   4   6   8  16   5          27\n",
       "3     Gracie Britton  19  20  10   30  41   0   8   1  16   0          14\n",
       "6    Joely Caramelli  19  16   4   20  46   0  24  39   8  11          12\n",
       "2      Emma Muchnick  19  34   7   41  71   2  27  13  31   9          10"
      ]
     },
     "execution_count": 21,
     "metadata": {},
     "output_type": "execute_result"
    }
   ],
   "source": [
    "player_df['Efficiency'] = (player_df['G'] + player_df['A']) - player_df['TO']\n",
    "player_df.sort_values('Efficiency', ascending=False).head()"
   ]
  },
  {
   "cell_type": "markdown",
   "id": "7ceda28a",
   "metadata": {},
   "source": [
    "Which player has the most impact in transition (DC + GB - TO)?"
   ]
  },
  {
   "cell_type": "code",
   "execution_count": 22,
   "id": "dd4b2554",
   "metadata": {},
   "outputs": [
    {
     "data": {
      "text/html": [
       "<div>\n",
       "<style scoped>\n",
       "    .dataframe tbody tr th:only-of-type {\n",
       "        vertical-align: middle;\n",
       "    }\n",
       "\n",
       "    .dataframe tbody tr th {\n",
       "        vertical-align: top;\n",
       "    }\n",
       "\n",
       "    .dataframe thead th {\n",
       "        text-align: right;\n",
       "    }\n",
       "</style>\n",
       "<table border=\"1\" class=\"dataframe\">\n",
       "  <thead>\n",
       "    <tr style=\"text-align: right;\">\n",
       "      <th></th>\n",
       "      <th>PLAYER</th>\n",
       "      <th>GP</th>\n",
       "      <th>G</th>\n",
       "      <th>A</th>\n",
       "      <th>Pts</th>\n",
       "      <th>Sh</th>\n",
       "      <th>Gw</th>\n",
       "      <th>GB</th>\n",
       "      <th>DC</th>\n",
       "      <th>TO</th>\n",
       "      <th>CT</th>\n",
       "      <th>Efficiency</th>\n",
       "      <th>TransitionImpact</th>\n",
       "    </tr>\n",
       "  </thead>\n",
       "  <tbody>\n",
       "    <tr>\n",
       "      <th>14</th>\n",
       "      <td>Meghan Rode</td>\n",
       "      <td>17</td>\n",
       "      <td>1</td>\n",
       "      <td>0</td>\n",
       "      <td>1</td>\n",
       "      <td>3</td>\n",
       "      <td>0</td>\n",
       "      <td>1</td>\n",
       "      <td>75</td>\n",
       "      <td>4</td>\n",
       "      <td>0</td>\n",
       "      <td>-3</td>\n",
       "      <td>72</td>\n",
       "    </tr>\n",
       "    <tr>\n",
       "      <th>6</th>\n",
       "      <td>Joely Caramelli</td>\n",
       "      <td>19</td>\n",
       "      <td>16</td>\n",
       "      <td>4</td>\n",
       "      <td>20</td>\n",
       "      <td>46</td>\n",
       "      <td>0</td>\n",
       "      <td>24</td>\n",
       "      <td>39</td>\n",
       "      <td>8</td>\n",
       "      <td>11</td>\n",
       "      <td>12</td>\n",
       "      <td>55</td>\n",
       "    </tr>\n",
       "    <tr>\n",
       "      <th>18</th>\n",
       "      <td>Kaci Benoit</td>\n",
       "      <td>19</td>\n",
       "      <td>0</td>\n",
       "      <td>0</td>\n",
       "      <td>0</td>\n",
       "      <td>2</td>\n",
       "      <td>0</td>\n",
       "      <td>34</td>\n",
       "      <td>13</td>\n",
       "      <td>5</td>\n",
       "      <td>12</td>\n",
       "      <td>-5</td>\n",
       "      <td>42</td>\n",
       "    </tr>\n",
       "    <tr>\n",
       "      <th>31</th>\n",
       "      <td>Daniella Guyette</td>\n",
       "      <td>19</td>\n",
       "      <td>0</td>\n",
       "      <td>0</td>\n",
       "      <td>0</td>\n",
       "      <td>0</td>\n",
       "      <td>0</td>\n",
       "      <td>28</td>\n",
       "      <td>8</td>\n",
       "      <td>2</td>\n",
       "      <td>2</td>\n",
       "      <td>-2</td>\n",
       "      <td>34</td>\n",
       "    </tr>\n",
       "    <tr>\n",
       "      <th>27</th>\n",
       "      <td>Coco Vandiver</td>\n",
       "      <td>9</td>\n",
       "      <td>0</td>\n",
       "      <td>0</td>\n",
       "      <td>0</td>\n",
       "      <td>0</td>\n",
       "      <td>0</td>\n",
       "      <td>34</td>\n",
       "      <td>1</td>\n",
       "      <td>3</td>\n",
       "      <td>40</td>\n",
       "      <td>-3</td>\n",
       "      <td>32</td>\n",
       "    </tr>\n",
       "  </tbody>\n",
       "</table>\n",
       "</div>"
      ],
      "text/plain": [
       "              PLAYER  GP   G  A  Pts  Sh  Gw  GB  DC  TO  CT  Efficiency  \\\n",
       "14       Meghan Rode  17   1  0    1   3   0   1  75   4   0          -3   \n",
       "6    Joely Caramelli  19  16  4   20  46   0  24  39   8  11          12   \n",
       "18       Kaci Benoit  19   0  0    0   2   0  34  13   5  12          -5   \n",
       "31  Daniella Guyette  19   0  0    0   0   0  28   8   2   2          -2   \n",
       "27     Coco Vandiver   9   0  0    0   0   0  34   1   3  40          -3   \n",
       "\n",
       "    TransitionImpact  \n",
       "14                72  \n",
       "6                 55  \n",
       "18                42  \n",
       "31                34  \n",
       "27                32  "
      ]
     },
     "execution_count": 22,
     "metadata": {},
     "output_type": "execute_result"
    }
   ],
   "source": [
    "player_df['TransitionImpact'] = player_df['DC'] + player_df['GB'] - player_df['TO']\n",
    "player_df.sort_values('TransitionImpact', ascending=False).head()"
   ]
  },
  {
   "cell_type": "markdown",
   "id": "4757056b",
   "metadata": {},
   "source": [
    "Does winning correlate with higher scoring in the 1st period?"
   ]
  },
  {
   "cell_type": "code",
   "execution_count": 23,
   "id": "6fd1cc36",
   "metadata": {},
   "outputs": [
    {
     "data": {
      "text/plain": [
       "74"
      ]
     },
     "execution_count": 23,
     "metadata": {},
     "output_type": "execute_result"
    }
   ],
   "source": [
    "# Sum 1st period SU goals across matches they won\n",
    "won_games = match_df[match_df['Result'].str.startswith('W')]\n",
    "period_df.loc[0, 'SU_Goals']  # 1st period total"
   ]
  },
  {
   "cell_type": "markdown",
   "id": "85887fb9",
   "metadata": {},
   "source": [
    "Which player should SU build around to win two more games next season?\n",
    "Consider:\n",
    "\n",
    "Offensive efficiency (G+A)\n",
    "\n",
    "Possession safety (low TO)\n",
    "\n",
    "Draw control & ground ball dominance"
   ]
  },
  {
   "cell_type": "code",
   "execution_count": 24,
   "id": "a1bfb95d",
   "metadata": {},
   "outputs": [
    {
     "data": {
      "text/html": [
       "<div>\n",
       "<style scoped>\n",
       "    .dataframe tbody tr th:only-of-type {\n",
       "        vertical-align: middle;\n",
       "    }\n",
       "\n",
       "    .dataframe tbody tr th {\n",
       "        vertical-align: top;\n",
       "    }\n",
       "\n",
       "    .dataframe thead th {\n",
       "        text-align: right;\n",
       "    }\n",
       "</style>\n",
       "<table border=\"1\" class=\"dataframe\">\n",
       "  <thead>\n",
       "    <tr style=\"text-align: right;\">\n",
       "      <th></th>\n",
       "      <th>PLAYER</th>\n",
       "      <th>GP</th>\n",
       "      <th>G</th>\n",
       "      <th>A</th>\n",
       "      <th>Pts</th>\n",
       "      <th>Sh</th>\n",
       "      <th>Gw</th>\n",
       "      <th>GB</th>\n",
       "      <th>DC</th>\n",
       "      <th>TO</th>\n",
       "      <th>CT</th>\n",
       "      <th>Efficiency</th>\n",
       "      <th>TransitionImpact</th>\n",
       "      <th>GameChangerScore</th>\n",
       "    </tr>\n",
       "  </thead>\n",
       "  <tbody>\n",
       "    <tr>\n",
       "      <th>6</th>\n",
       "      <td>Joely Caramelli</td>\n",
       "      <td>19</td>\n",
       "      <td>16</td>\n",
       "      <td>4</td>\n",
       "      <td>20</td>\n",
       "      <td>46</td>\n",
       "      <td>0</td>\n",
       "      <td>24</td>\n",
       "      <td>39</td>\n",
       "      <td>8</td>\n",
       "      <td>11</td>\n",
       "      <td>12</td>\n",
       "      <td>55</td>\n",
       "      <td>75</td>\n",
       "    </tr>\n",
       "    <tr>\n",
       "      <th>14</th>\n",
       "      <td>Meghan Rode</td>\n",
       "      <td>17</td>\n",
       "      <td>1</td>\n",
       "      <td>0</td>\n",
       "      <td>1</td>\n",
       "      <td>3</td>\n",
       "      <td>0</td>\n",
       "      <td>1</td>\n",
       "      <td>75</td>\n",
       "      <td>4</td>\n",
       "      <td>0</td>\n",
       "      <td>-3</td>\n",
       "      <td>72</td>\n",
       "      <td>73</td>\n",
       "    </tr>\n",
       "    <tr>\n",
       "      <th>4</th>\n",
       "      <td>Alexa Vogelman</td>\n",
       "      <td>19</td>\n",
       "      <td>21</td>\n",
       "      <td>6</td>\n",
       "      <td>27</td>\n",
       "      <td>46</td>\n",
       "      <td>0</td>\n",
       "      <td>25</td>\n",
       "      <td>31</td>\n",
       "      <td>27</td>\n",
       "      <td>13</td>\n",
       "      <td>0</td>\n",
       "      <td>29</td>\n",
       "      <td>56</td>\n",
       "    </tr>\n",
       "    <tr>\n",
       "      <th>2</th>\n",
       "      <td>Emma Muchnick</td>\n",
       "      <td>19</td>\n",
       "      <td>34</td>\n",
       "      <td>7</td>\n",
       "      <td>41</td>\n",
       "      <td>71</td>\n",
       "      <td>2</td>\n",
       "      <td>27</td>\n",
       "      <td>13</td>\n",
       "      <td>31</td>\n",
       "      <td>9</td>\n",
       "      <td>10</td>\n",
       "      <td>9</td>\n",
       "      <td>50</td>\n",
       "    </tr>\n",
       "    <tr>\n",
       "      <th>18</th>\n",
       "      <td>Kaci Benoit</td>\n",
       "      <td>19</td>\n",
       "      <td>0</td>\n",
       "      <td>0</td>\n",
       "      <td>0</td>\n",
       "      <td>2</td>\n",
       "      <td>0</td>\n",
       "      <td>34</td>\n",
       "      <td>13</td>\n",
       "      <td>5</td>\n",
       "      <td>12</td>\n",
       "      <td>-5</td>\n",
       "      <td>42</td>\n",
       "      <td>42</td>\n",
       "    </tr>\n",
       "  </tbody>\n",
       "</table>\n",
       "</div>"
      ],
      "text/plain": [
       "             PLAYER  GP   G  A  Pts  Sh  Gw  GB  DC  TO  CT  Efficiency  \\\n",
       "6   Joely Caramelli  19  16  4   20  46   0  24  39   8  11          12   \n",
       "14      Meghan Rode  17   1  0    1   3   0   1  75   4   0          -3   \n",
       "4    Alexa Vogelman  19  21  6   27  46   0  25  31  27  13           0   \n",
       "2     Emma Muchnick  19  34  7   41  71   2  27  13  31   9          10   \n",
       "18      Kaci Benoit  19   0  0    0   2   0  34  13   5  12          -5   \n",
       "\n",
       "    TransitionImpact  GameChangerScore  \n",
       "6                 55                75  \n",
       "14                72                73  \n",
       "4                 29                56  \n",
       "2                  9                50  \n",
       "18                42                42  "
      ]
     },
     "execution_count": 24,
     "metadata": {},
     "output_type": "execute_result"
    }
   ],
   "source": [
    "# Combine multiple features into a custom score\n",
    "player_df['GameChangerScore'] = (\n",
    "    player_df['G'] + player_df['A'] + player_df['DC'] + player_df['GB'] - player_df['TO']\n",
    ")\n",
    "player_df.sort_values('GameChangerScore', ascending=False).head(5)\n"
   ]
  },
  {
   "cell_type": "markdown",
   "id": "7aba8528",
   "metadata": {},
   "source": [
    "How did SU perform in neutral-site games vs regular season?"
   ]
  },
  {
   "cell_type": "code",
   "execution_count": 25,
   "id": "03d6b1aa",
   "metadata": {},
   "outputs": [
    {
     "data": {
      "text/plain": [
       "SU_Score        12.352941\n",
       "OPP_Score       11.588235\n",
       "Attendance    1534.294118\n",
       "dtype: float64"
      ]
     },
     "execution_count": 25,
     "metadata": {},
     "output_type": "execute_result"
    }
   ],
   "source": [
    "match_df[match_df['Location'] == 'Neutral'].mean(numeric_only=True)\n",
    "match_df[match_df['Location'] != 'Neutral'].mean(numeric_only=True)\n"
   ]
  },
  {
   "cell_type": "markdown",
   "id": "f1460f79",
   "metadata": {},
   "source": [
    "Did any player have zero goals, assists, and still high TO or CT?"
   ]
  },
  {
   "cell_type": "code",
   "execution_count": 26,
   "id": "ef08eac9",
   "metadata": {},
   "outputs": [
    {
     "data": {
      "text/html": [
       "<div>\n",
       "<style scoped>\n",
       "    .dataframe tbody tr th:only-of-type {\n",
       "        vertical-align: middle;\n",
       "    }\n",
       "\n",
       "    .dataframe tbody tr th {\n",
       "        vertical-align: top;\n",
       "    }\n",
       "\n",
       "    .dataframe thead th {\n",
       "        text-align: right;\n",
       "    }\n",
       "</style>\n",
       "<table border=\"1\" class=\"dataframe\">\n",
       "  <thead>\n",
       "    <tr style=\"text-align: right;\">\n",
       "      <th></th>\n",
       "      <th>PLAYER</th>\n",
       "      <th>GP</th>\n",
       "      <th>G</th>\n",
       "      <th>A</th>\n",
       "      <th>Pts</th>\n",
       "      <th>Sh</th>\n",
       "      <th>Gw</th>\n",
       "      <th>GB</th>\n",
       "      <th>DC</th>\n",
       "      <th>TO</th>\n",
       "      <th>CT</th>\n",
       "      <th>Efficiency</th>\n",
       "      <th>TransitionImpact</th>\n",
       "      <th>GameChangerScore</th>\n",
       "    </tr>\n",
       "  </thead>\n",
       "  <tbody>\n",
       "    <tr>\n",
       "      <th>17</th>\n",
       "      <td>Izzy Lahah</td>\n",
       "      <td>6</td>\n",
       "      <td>0</td>\n",
       "      <td>0</td>\n",
       "      <td>0</td>\n",
       "      <td>2</td>\n",
       "      <td>0</td>\n",
       "      <td>7</td>\n",
       "      <td>1</td>\n",
       "      <td>1</td>\n",
       "      <td>8</td>\n",
       "      <td>-1</td>\n",
       "      <td>7</td>\n",
       "      <td>7</td>\n",
       "    </tr>\n",
       "    <tr>\n",
       "      <th>18</th>\n",
       "      <td>Kaci Benoit</td>\n",
       "      <td>19</td>\n",
       "      <td>0</td>\n",
       "      <td>0</td>\n",
       "      <td>0</td>\n",
       "      <td>2</td>\n",
       "      <td>0</td>\n",
       "      <td>34</td>\n",
       "      <td>13</td>\n",
       "      <td>5</td>\n",
       "      <td>12</td>\n",
       "      <td>-5</td>\n",
       "      <td>42</td>\n",
       "      <td>42</td>\n",
       "    </tr>\n",
       "    <tr>\n",
       "      <th>24</th>\n",
       "      <td>Superia Clark</td>\n",
       "      <td>16</td>\n",
       "      <td>0</td>\n",
       "      <td>0</td>\n",
       "      <td>0</td>\n",
       "      <td>0</td>\n",
       "      <td>0</td>\n",
       "      <td>14</td>\n",
       "      <td>2</td>\n",
       "      <td>7</td>\n",
       "      <td>13</td>\n",
       "      <td>-7</td>\n",
       "      <td>9</td>\n",
       "      <td>9</td>\n",
       "    </tr>\n",
       "    <tr>\n",
       "      <th>27</th>\n",
       "      <td>Coco Vandiver</td>\n",
       "      <td>9</td>\n",
       "      <td>0</td>\n",
       "      <td>0</td>\n",
       "      <td>0</td>\n",
       "      <td>0</td>\n",
       "      <td>0</td>\n",
       "      <td>34</td>\n",
       "      <td>1</td>\n",
       "      <td>3</td>\n",
       "      <td>40</td>\n",
       "      <td>-3</td>\n",
       "      <td>32</td>\n",
       "      <td>32</td>\n",
       "    </tr>\n",
       "  </tbody>\n",
       "</table>\n",
       "</div>"
      ],
      "text/plain": [
       "           PLAYER  GP  G  A  Pts  Sh  Gw  GB  DC  TO  CT  Efficiency  \\\n",
       "17     Izzy Lahah   6  0  0    0   2   0   7   1   1   8          -1   \n",
       "18    Kaci Benoit  19  0  0    0   2   0  34  13   5  12          -5   \n",
       "24  Superia Clark  16  0  0    0   0   0  14   2   7  13          -7   \n",
       "27  Coco Vandiver   9  0  0    0   0   0  34   1   3  40          -3   \n",
       "\n",
       "    TransitionImpact  GameChangerScore  \n",
       "17                 7                 7  \n",
       "18                42                42  \n",
       "24                 9                 9  \n",
       "27                32                32  "
      ]
     },
     "execution_count": 26,
     "metadata": {},
     "output_type": "execute_result"
    }
   ],
   "source": [
    "player_df[(player_df['G'] == 0) & (player_df['A'] == 0) & ((player_df['TO'] > 3) | (player_df['CT'] > 3))]"
   ]
  },
  {
   "cell_type": "code",
   "execution_count": 17,
   "id": "2e64c8d6",
   "metadata": {},
   "outputs": [
    {
     "name": "stderr",
     "output_type": "stream",
     "text": [
      "C:\\Users\\abhis\\AppData\\Local\\Temp\\ipykernel_7356\\4119704896.py:2: FutureWarning: \n",
      "\n",
      "Passing `palette` without assigning `hue` is deprecated and will be removed in v0.14.0. Assign the `y` variable to `hue` and set `legend=False` for the same effect.\n",
      "\n",
      "  sns.barplot(x=\"G\", y=\"PLAYER\", data=player_df.sort_values(\"G\", ascending=False).head(10), palette=\"Blues_d\")\n"
     ]
    },
    {
     "data": {
      "image/png": "[encoded data removed]",
      "text/plain": [
       "<Figure size 1200x600 with 1 Axes>"
      ]
     },
     "metadata": {},
     "output_type": "display_data"
    }
   ],
   "source": [
    "plt.figure(figsize=(12,6))\n",
    "sns.barplot(x=\"G\", y=\"PLAYER\", data=player_df.sort_values(\"G\", ascending=False).head(10), palette=\"Blues_d\")\n",
    "plt.title(\"Top 10 Goal Scorers - 2025 Season\")\n",
    "plt.xlabel(\"Goals\")\n",
    "plt.ylabel(\"Player\")\n",
    "plt.show()\n"
   ]
  },
  {
   "cell_type": "code",
   "execution_count": 18,
   "id": "46c01650",
   "metadata": {},
   "outputs": [
    {
     "data": {
      "image/png": "[encoded data removed]",
      "text/plain": [
       "<Figure size 1000x500 with 1 Axes>"
      ]
     },
     "metadata": {},
     "output_type": "display_data"
    }
   ],
   "source": [
    "plt.figure(figsize=(10,5))\n",
    "plt.plot(period_df[\"Period\"], period_df[\"SU_Goals\"], marker='o', label=\"SU\")\n",
    "plt.plot(period_df[\"Period\"], period_df[\"OPP_Goals\"], marker='o', label=\"Opponents\")\n",
    "plt.title(\"Goals by Period\")\n",
    "plt.xlabel(\"Period\")\n",
    "plt.ylabel(\"Goals\")\n",
    "plt.legend()\n",
    "plt.show()\n"
   ]
  },
  {
   "cell_type": "code",
   "execution_count": 27,
   "id": "8f2b0304",
   "metadata": {},
   "outputs": [
    {
     "name": "stderr",
     "output_type": "stream",
     "text": [
      "C:\\Users\\abhis\\AppData\\Local\\Temp\\ipykernel_7356\\134332021.py:15: FutureWarning: \n",
      "\n",
      "Passing `palette` without assigning `hue` is deprecated and will be removed in v0.14.0. Assign the `y` variable to `hue` and set `legend=False` for the same effect.\n",
      "\n",
      "  sns.barplot(x=\"GameChangerScore\", y=\"PLAYER\", data=top_game_changers, palette=\"coolwarm\")\n"
     ]
    },
    {
     "data": {
      "image/png": "[encoded data removed]",
      "text/plain": [
       "<Figure size 1200x600 with 1 Axes>"
      ]
     },
     "metadata": {},
     "output_type": "display_data"
    }
   ],
   "source": [
    "import matplotlib.pyplot as plt\n",
    "import seaborn as sns\n",
    "\n",
    "# Set seaborn style\n",
    "sns.set(style=\"whitegrid\")\n",
    "\n",
    "# 1. Top 10 players by GameChangerScore (G + A + DC + GB - TO)\n",
    "player_df[\"GameChangerScore\"] = (\n",
    "    player_df[\"G\"] + player_df[\"A\"] + player_df[\"DC\"] + player_df[\"GB\"] - player_df[\"TO\"]\n",
    ")\n",
    "\n",
    "top_game_changers = player_df.sort_values(\"GameChangerScore\", ascending=False).head(10)\n",
    "\n",
    "plt.figure(figsize=(12, 6))\n",
    "sns.barplot(x=\"GameChangerScore\", y=\"PLAYER\", data=top_game_changers, palette=\"coolwarm\")\n",
    "plt.title(\"Top 10 Game Changers (Composite Score)\")\n",
    "plt.xlabel(\"GameChanger Score (G + A + DC + GB - TO)\")\n",
    "plt.ylabel(\"Player\")\n",
    "plt.tight_layout()\n",
    "plt.show()"
   ]
  },
  {
   "cell_type": "code",
   "execution_count": 28,
   "id": "27ca73a7",
   "metadata": {},
   "outputs": [
    {
     "data": {
      "image/png": "[encoded data removed]",
      "text/plain": [
       "<Figure size 1000x600 with 1 Axes>"
      ]
     },
     "metadata": {},
     "output_type": "display_data"
    }
   ],
   "source": [
    "# 2. Turnovers vs Draw Controls Scatter Plot\n",
    "plt.figure(figsize=(10, 6))\n",
    "sns.scatterplot(x=\"TO\", y=\"DC\", data=player_df, hue=\"PLAYER\", s=100, legend=False)\n",
    "plt.title(\"Turnovers vs Draw Controls\")\n",
    "plt.xlabel(\"Turnovers (TO)\")\n",
    "plt.ylabel(\"Draw Controls (DC)\")\n",
    "plt.grid(True)\n",
    "plt.tight_layout()\n",
    "plt.show()\n"
   ]
  },
  {
   "cell_type": "code",
   "execution_count": 29,
   "id": "3df8dc24",
   "metadata": {},
   "outputs": [
    {
     "data": {
      "image/png": "[encoded data removed]",
      "text/plain": [
       "<Figure size 1000x600 with 1 Axes>"
      ]
     },
     "metadata": {},
     "output_type": "display_data"
    }
   ],
   "source": [
    "# 3. SU vs Opponent Shooting Accuracy and Draw Control Comparison\n",
    "comparison_df = pd.DataFrame({\n",
    "    \"Metric\": [\"Shot %\", \"SOG %\", \"Draw Control %\", \"Clear %\"],\n",
    "    \"SU\": [0.437, 0.749, 240 / (240 + 280), 359 / 397],\n",
    "    \"OPP\": [0.400, 0.694, 280 / (240 + 280), 335 / 356],\n",
    "})\n",
    "\n",
    "comparison_df_melted = comparison_df.melt(id_vars=\"Metric\", var_name=\"Team\", value_name=\"Value\")\n",
    "\n",
    "plt.figure(figsize=(10, 6))\n",
    "sns.barplot(x=\"Metric\", y=\"Value\", hue=\"Team\", data=comparison_df_melted)\n",
    "plt.title(\"SU vs OPP Key Performance Metrics\")\n",
    "plt.ylim(0, 1)\n",
    "plt.ylabel(\"Percentage\")\n",
    "plt.tight_layout()\n",
    "plt.show()"
   ]
  }
 ],
 "metadata": {
  "kernelspec": {
   "display_name": "base",
   "language": "python",
   "name": "python3"
  },
  "language_info": {
   "codemirror_mode": {
    "name": "ipython",
    "version": 3
   },
   "file_extension": ".py",
   "mimetype": "text/x-python",
   "name": "python",
   "nbconvert_exporter": "python",
   "pygments_lexer": "ipython3",
   "version": "3.11.5"
  }
 },
 "nbformat": 4,
 "nbformat_minor": 5
}
